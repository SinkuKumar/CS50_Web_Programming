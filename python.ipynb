{
 "cells": [
  {
   "cell_type": "markdown",
   "source": [
    "## Hello World"
   ],
   "metadata": {
    "collapsed": false,
    "pycharm": {
     "name": "#%% md\n"
    }
   }
  },
  {
   "cell_type": "code",
   "execution_count": 1,
   "outputs": [
    {
     "name": "stdout",
     "output_type": "stream",
     "text": [
      "Hello World\n"
     ]
    }
   ],
   "source": [
    "# hello world\n",
    "print(\"Hello World\")"
   ],
   "metadata": {
    "collapsed": false,
    "pycharm": {
     "name": "#%%\n"
    }
   }
  },
  {
   "cell_type": "markdown",
   "source": [
    "## Variables"
   ],
   "metadata": {
    "collapsed": false,
    "pycharm": {
     "name": "#%% md\n"
    }
   }
  },
  {
   "cell_type": "code",
   "execution_count": 2,
   "outputs": [
    {
     "name": "stdout",
     "output_type": "stream",
     "text": [
      "Variable a contains 22, and type is<class 'int'>\n",
      "Variable a contains 1.5, and type is<class 'float'>\n",
      "Variable a contains Hello!, and type is<class 'str'>\n",
      "Variable a contains True, and type is<class 'bool'>\n",
      "Variable a contains None, and type is<class 'NoneType'>\n"
     ]
    }
   ],
   "source": [
    "# variables\n",
    "a = 22\n",
    "b = 1.5\n",
    "c = \"Hello!\"\n",
    "d = True\n",
    "e = None\n",
    "\n",
    "print(f\"Variable a contains {a}, and type is\" + str(type(a)))\n",
    "print(f\"Variable a contains {b}, and type is\" + str(type(b)))\n",
    "print(f\"Variable a contains {c}, and type is\" + str(type(c)))\n",
    "print(f\"Variable a contains {d}, and type is\" + str(type(d)))\n",
    "print(f\"Variable a contains {e}, and type is\" + str(type(e)))"
   ],
   "metadata": {
    "collapsed": false,
    "pycharm": {
     "name": "#%%\n"
    }
   }
  },
  {
   "cell_type": "markdown",
   "source": [
    "## Conditions"
   ],
   "metadata": {
    "collapsed": false,
    "pycharm": {
     "name": "#%% md\n"
    }
   }
  },
  {
   "cell_type": "code",
   "source": [
    "# conditions\n",
    "if 1 < 0:\n",
    "    print(\"One is smaller than Zero\")\n",
    "elif 1 == 1:\n",
    "    print(\"One is equal to One!\")\n",
    "elif 1 > 0:\n",
    "    print(\"One is bigger than Zero\")\n",
    "else:\n",
    "    print(\"Something else\")"
   ],
   "metadata": {
    "collapsed": false,
    "pycharm": {
     "name": "#%%\n"
    }
   },
   "execution_count": 3,
   "outputs": [
    {
     "name": "stdout",
     "output_type": "stream",
     "text": [
      "One is equal to One!\n"
     ]
    }
   ]
  },
  {
   "cell_type": "markdown",
   "source": [
    "## Type Converison"
   ],
   "metadata": {
    "collapsed": false,
    "pycharm": {
     "name": "#%% md\n"
    }
   }
  },
  {
   "cell_type": "code",
   "execution_count": 4,
   "outputs": [
    {
     "name": "stdout",
     "output_type": "stream",
     "text": [
      "Your age type is <class 'str'>\n",
      "Age type converted to <class 'int'>\n"
     ]
    }
   ],
   "source": [
    "# type conversion\n",
    "ageString = input(\"Enter your age.\")\n",
    "print(f\"Your age type is {type(ageString)}\")\n",
    "ageInteger = int(ageString)\n",
    "print(f\"Age type converted to {type(ageInteger)}\")"
   ],
   "metadata": {
    "collapsed": false,
    "pycharm": {
     "name": "#%%\n"
    }
   }
  },
  {
   "cell_type": "markdown",
   "source": [
    "## Sequences"
   ],
   "metadata": {
    "collapsed": false,
    "pycharm": {
     "name": "#%% md\n"
    }
   }
  },
  {
   "cell_type": "code",
   "execution_count": 5,
   "outputs": [
    {
     "name": "stdout",
     "output_type": "stream",
     "text": [
      "S\n",
      "Length of Sinku is 5\n",
      "S\n",
      "i\n",
      "n\n",
      "k\n",
      "u\n"
     ]
    }
   ],
   "source": [
    "# string sequence\n",
    "name = \"Sinku\"\n",
    "print(name[0])\n",
    "print(f\"Length of {name} is {len(name)}\")\n",
    "\n",
    "for character in name:\n",
    "    print(character)"
   ],
   "metadata": {
    "collapsed": false,
    "pycharm": {
     "name": "#%%\n"
    }
   }
  },
  {
   "cell_type": "markdown",
   "source": [
    "## Data Structures:\n",
    "* list: sequence of mutable values\n",
    "* tuple: sequence of immutable values\n",
    "* set: collection of unique values\n",
    "* dictionary: collection of key:value pairs\n",
    "\n"
   ],
   "metadata": {
    "collapsed": false,
    "pycharm": {
     "name": "#%% md\n"
    }
   }
  },
  {
   "cell_type": "code",
   "execution_count": 6,
   "outputs": [
    {
     "name": "stdout",
     "output_type": "stream",
     "text": [
      "Kritika\n",
      "Rahul\n",
      "Kritika\n",
      "Sowmya\n",
      "Shilpa\n"
     ]
    }
   ],
   "source": [
    "# list\n",
    "friends = ['Rahul', 'Kritika', 'Sowmya', 'Shilpa']\n",
    "print(friends[1])\n",
    "\n",
    "for friend in friends:\n",
    "    print(friend)"
   ],
   "metadata": {
    "collapsed": false,
    "pycharm": {
     "name": "#%%\n"
    }
   }
  },
  {
   "cell_type": "code",
   "execution_count": 7,
   "outputs": [
    {
     "name": "stdout",
     "output_type": "stream",
     "text": [
      "Co-ordinate is (10.0, 20.0), type is <class 'tuple'>\n"
     ]
    }
   ],
   "source": [
    "# tuple\n",
    "coordinate = (10.0, 20.0)\n",
    "print(f\"Co-ordinate is {coordinate}, type is {type(coordinate)}\")"
   ],
   "metadata": {
    "collapsed": false,
    "pycharm": {
     "name": "#%%\n"
    }
   }
  },
  {
   "cell_type": "code",
   "execution_count": 8,
   "outputs": [
    {
     "name": "stdout",
     "output_type": "stream",
     "text": [
      "Unique number in the set are: {0, 1, 2, 3, 4}\n",
      "0\n",
      "1\n",
      "2\n",
      "3\n",
      "4\n",
      "Unique number in the set are: {0, 1, 2, 3, 4, 5}\n",
      "Unique number in the set are: {0, 1, 2, 4, 5}\n"
     ]
    }
   ],
   "source": [
    "# set\n",
    "digits = {0, 1, 2, 3, 4, 1, 2, 3}\n",
    "print(f\"Unique number in the set are: {digits}\")\n",
    "for digit in digits:\n",
    "    print(digit)\n",
    "\n",
    "digits.add(5)\n",
    "print(f\"Unique number in the set are: {digits}\")\n",
    "\n",
    "digits.remove(3)\n",
    "print(f\"Unique number in the set are: {digits}\")"
   ],
   "metadata": {
    "collapsed": false,
    "pycharm": {
     "name": "#%%\n"
    }
   }
  },
  {
   "cell_type": "code",
   "execution_count": 9,
   "outputs": [
    {
     "name": "stdout",
     "output_type": "stream",
     "text": [
      "The opposite of AC is DC\n",
      "The opposite of Good is Bad\n",
      "The opposite of High is Low\n",
      "The opposite of Black is White\n",
      "The opposite of Right is Wrong\n"
     ]
    }
   ],
   "source": [
    "# dictionary\n",
    "opposites = {\n",
    "    \"AC\":\"DC\",\n",
    "    \"Good\": \"Bad\",\n",
    "    \"High\": \"Low\",\n",
    "    \"Black\": \"White\",\n",
    "    \"Right\": \"Wrong\"\n",
    "}\n",
    "for key in opposites:\n",
    "    print(f\"The opposite of {key} is {opposites[key]}\")"
   ],
   "metadata": {
    "collapsed": false,
    "pycharm": {
     "name": "#%%\n"
    }
   }
  }
 ],
 "metadata": {
  "kernelspec": {
   "display_name": "Python 3",
   "language": "python",
   "name": "python3"
  },
  "language_info": {
   "codemirror_mode": {
    "name": "ipython",
    "version": 2
   },
   "file_extension": ".py",
   "mimetype": "text/x-python",
   "name": "python",
   "nbconvert_exporter": "python",
   "pygments_lexer": "ipython2",
   "version": "2.7.6"
  }
 },
 "nbformat": 4,
 "nbformat_minor": 0
}